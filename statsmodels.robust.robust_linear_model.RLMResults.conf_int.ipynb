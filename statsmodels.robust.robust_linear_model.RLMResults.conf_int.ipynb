{
 "cells": [
  {
   "cell_type": "code",
   "execution_count": 1,
   "id": "bda8c383",
   "metadata": {},
   "outputs": [],
   "source": [
    "import statsmodels.api as sm"
   ]
  },
  {
   "cell_type": "code",
   "execution_count": 2,
   "id": "30d4896d",
   "metadata": {},
   "outputs": [],
   "source": [
    "data = sm.datasets.longley.load()\n",
    "data.exog = sm.add_constant(data.exog)"
   ]
  },
  {
   "cell_type": "code",
   "execution_count": 3,
   "id": "059ac907",
   "metadata": {},
   "outputs": [],
   "source": [
    "results = sm.OLS(data.endog, data.exog).fit()\n"
   ]
  },
  {
   "cell_type": "code",
   "execution_count": 4,
   "id": "13b88740",
   "metadata": {},
   "outputs": [
    {
     "data": {
      "text/html": [
       "<div>\n",
       "<style scoped>\n",
       "    .dataframe tbody tr th:only-of-type {\n",
       "        vertical-align: middle;\n",
       "    }\n",
       "\n",
       "    .dataframe tbody tr th {\n",
       "        vertical-align: top;\n",
       "    }\n",
       "\n",
       "    .dataframe thead th {\n",
       "        text-align: right;\n",
       "    }\n",
       "</style>\n",
       "<table border=\"1\" class=\"dataframe\">\n",
       "  <thead>\n",
       "    <tr style=\"text-align: right;\">\n",
       "      <th></th>\n",
       "      <th>0</th>\n",
       "      <th>1</th>\n",
       "    </tr>\n",
       "  </thead>\n",
       "  <tbody>\n",
       "    <tr>\n",
       "      <th>const</th>\n",
       "      <td>-5.496529e+06</td>\n",
       "      <td>-1.467988e+06</td>\n",
       "    </tr>\n",
       "    <tr>\n",
       "      <th>GNPDEFL</th>\n",
       "      <td>-1.770290e+02</td>\n",
       "      <td>2.071528e+02</td>\n",
       "    </tr>\n",
       "    <tr>\n",
       "      <th>GNP</th>\n",
       "      <td>-1.115811e-01</td>\n",
       "      <td>3.994274e-02</td>\n",
       "    </tr>\n",
       "    <tr>\n",
       "      <th>UNEMP</th>\n",
       "      <td>-3.125067e+00</td>\n",
       "      <td>-9.153930e-01</td>\n",
       "    </tr>\n",
       "    <tr>\n",
       "      <th>ARMED</th>\n",
       "      <td>-1.517949e+00</td>\n",
       "      <td>-5.485050e-01</td>\n",
       "    </tr>\n",
       "    <tr>\n",
       "      <th>POP</th>\n",
       "      <td>-5.625172e-01</td>\n",
       "      <td>4.603090e-01</td>\n",
       "    </tr>\n",
       "    <tr>\n",
       "      <th>YEAR</th>\n",
       "      <td>7.987875e+02</td>\n",
       "      <td>2.859515e+03</td>\n",
       "    </tr>\n",
       "  </tbody>\n",
       "</table>\n",
       "</div>"
      ],
      "text/plain": [
       "                    0             1\n",
       "const   -5.496529e+06 -1.467988e+06\n",
       "GNPDEFL -1.770290e+02  2.071528e+02\n",
       "GNP     -1.115811e-01  3.994274e-02\n",
       "UNEMP   -3.125067e+00 -9.153930e-01\n",
       "ARMED   -1.517949e+00 -5.485050e-01\n",
       "POP     -5.625172e-01  4.603090e-01\n",
       "YEAR     7.987875e+02  2.859515e+03"
      ]
     },
     "execution_count": 4,
     "metadata": {},
     "output_type": "execute_result"
    }
   ],
   "source": [
    "results.conf_int()"
   ]
  },
  {
   "cell_type": "code",
   "execution_count": null,
   "id": "f92e499e",
   "metadata": {},
   "outputs": [],
   "source": []
  }
 ],
 "metadata": {
  "kernelspec": {
   "display_name": "Python 3 (ipykernel)",
   "language": "python",
   "name": "python3"
  },
  "language_info": {
   "codemirror_mode": {
    "name": "ipython",
    "version": 3
   },
   "file_extension": ".py",
   "mimetype": "text/x-python",
   "name": "python",
   "nbconvert_exporter": "python",
   "pygments_lexer": "ipython3",
   "version": "3.10.5"
  }
 },
 "nbformat": 4,
 "nbformat_minor": 5
}
